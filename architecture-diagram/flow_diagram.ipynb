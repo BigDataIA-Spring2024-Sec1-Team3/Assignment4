{
 "cells": [
  {
   "cell_type": "markdown",
   "metadata": {},
   "source": [
    "## IMPORT LIBRARIES"
   ]
  },
  {
   "cell_type": "code",
   "execution_count": 14,
   "metadata": {},
   "outputs": [],
   "source": [
    "from diagrams import Diagram, Cluster, Edge\n",
    "from diagrams.programming.language import Python\n",
    "from diagrams.custom import Custom\n",
    "from diagrams.aws.storage import S3\n",
    "from diagrams.aws.network import ELB\n",
    "from diagrams.aws.compute import EC2\n",
    "from diagrams.saas.analytics import Snowflake\n",
    "from diagrams.onprem.workflow import Airflow\n",
    "from diagrams.programming.framework import FastAPI\n",
    "from diagrams.digitalocean.compute import Docker\n",
    "from diagrams.onprem.database import Mongodb"
   ]
  },
  {
   "cell_type": "code",
   "execution_count": 15,
   "metadata": {},
   "outputs": [],
   "source": [
    "# Adjust these Graphviz attributes to increase diagram size, node spacing, etc.\n",
    "graph_attr = {\n",
    "    \"fontsize\": \"14\"\n",
    "}\n",
    "\n",
    "filename = \"flow_diagram\""
   ]
  },
  {
   "cell_type": "markdown",
   "metadata": {},
   "source": [
    "## FLOW DIAGRAM CREATION"
   ]
  },
  {
   "cell_type": "code",
   "execution_count": 68,
   "metadata": {},
   "outputs": [],
   "source": [
    "def create_flow_diagram():\n",
    "    try:\n",
    "        with Diagram(\"Flow Diagram\", filename=filename, show=False, direction=\"LR\", graph_attr=graph_attr):\n",
    "            user = Custom(\"User\", \"./input_icons/user.png\")\n",
    "            mongo = Mongodb(\"MongoDB\")\n",
    "            \n",
    "            with Cluster(\"Containerized Streamlit and FastAPI\"):\n",
    "                fast_api_1 = FastAPI(\"FastAPI\")\n",
    "                streamlit = Custom(\"Streamlit\", \"./input_icons/streamlit.png\")\n",
    "                docker = Docker(\"Docker\") \n",
    "            \n",
    "            user >> streamlit >> fast_api_1\n",
    "            \n",
    "            with Cluster(\"FAST API Endpoints\"):\n",
    "                user_auth = Custom(\"User Registration\\n & Authentication\", \"./input_icons/user-authentication.png\")\n",
    "                s3 = S3(\"PDF files storage\")\n",
    "            \n",
    "            with Cluster(\"Airflow Container\"):    \n",
    "                airflow = Airflow(\"Airflow\\ntrigger\")\n",
    "                python_1 = Python(\"Data Extraction\\nfrom PDF\")\n",
    "                python_2 = Python(\"Data validation\\nusing PyDantic\")\n",
    "                python_3 = Python(\"Loading data\\nto Snowflake\")\n",
    "                docker = Docker(\"Docker\") \n",
    "                    \n",
    "            fast_api_1 >> user_auth\n",
    "            fast_api_1 >> s3\n",
    "            fast_api_1 >> airflow\n",
    "        \n",
    "            \n",
    "            airflow >> python_1 >> python_2 >> python_3\n",
    "            snowflake = Snowflake(\"PDF content\\nand metadata\")\n",
    "            \n",
    "            python_3 >> snowflake\n",
    "            fast_api_1 >> Edge(label=\"User Query\")>>snowflake\n",
    "            s3 >> python_1\n",
    "            user_auth >> Edge(label=\"Auth\") << mongo\n",
    "                \n",
    "      \n",
    "    except Exception as e:\n",
    "        print(\"Exception: \",e)\n",
    "    "
   ]
  },
  {
   "cell_type": "code",
   "execution_count": 69,
   "metadata": {},
   "outputs": [],
   "source": [
    "create_flow_diagram()"
   ]
  }
 ],
 "metadata": {
  "kernelspec": {
   "display_name": "Python 3",
   "language": "python",
   "name": "python3"
  },
  "language_info": {
   "codemirror_mode": {
    "name": "ipython",
    "version": 3
   },
   "file_extension": ".py",
   "mimetype": "text/x-python",
   "name": "python",
   "nbconvert_exporter": "python",
   "pygments_lexer": "ipython3",
   "version": "3.11.5"
  }
 },
 "nbformat": 4,
 "nbformat_minor": 2
}

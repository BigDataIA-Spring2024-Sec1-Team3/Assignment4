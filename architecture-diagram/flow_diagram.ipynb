{
 "cells": [
  {
   "cell_type": "markdown",
   "metadata": {},
   "source": [
    "## IMPORT LIBRARIES"
   ]
  },
  {
   "cell_type": "code",
   "execution_count": 20,
   "metadata": {},
   "outputs": [],
   "source": [
    "from diagrams import Diagram, Cluster, Edge\n",
    "from diagrams.programming.language import Python\n",
    "from diagrams.custom import Custom\n",
    "from diagrams.aws.storage import S3\n",
    "from diagrams.aws.network import ELB\n",
    "from diagrams.aws.compute import EC2\n",
    "from diagrams.saas.analytics import Snowflake\n",
    "from diagrams.onprem.workflow import Airflow\n",
    "from diagrams.programming.framework import FastAPI\n",
    "from diagrams.digitalocean.compute import Docker"
   ]
  },
  {
   "cell_type": "code",
   "execution_count": 100,
   "metadata": {},
   "outputs": [],
   "source": [
    "# Adjust these Graphviz attributes to increase diagram size, node spacing, etc.\n",
    "graph_attr = {\n",
    "    \"fontsize\": \"14\"\n",
    "}\n",
    "\n",
    "filename = \"flow_diagram\""
   ]
  },
  {
   "cell_type": "markdown",
   "metadata": {},
   "source": [
    "## FLOW DIAGRAM CREATION"
   ]
  },
  {
   "cell_type": "code",
   "execution_count": 101,
   "metadata": {},
   "outputs": [],
   "source": [
    "def create_flow_diagram():\n",
    "    try:\n",
    "        with Diagram(\"Flow Diagram\", filename=filename, show=False, direction=\"LR\", graph_attr=graph_attr):\n",
    "            user = Custom(\"User\\nRequests\", \"./input_icons/user.png\")\n",
    "            elb = ELB(\"Elastic Load Balancer\")\n",
    "            ec2_group = [EC2(\"EC2 server\"), EC2(\"EC2 server\"), EC2(\"EC2 server\")]\n",
    "            \n",
    "            user>> Edge(label = \"\\nApplication traffic\") >>elb\n",
    "            elb >> ec2_group\n",
    "            with Cluster(\"Containerized Application\"):\n",
    "                with Cluster(\"Workflow\", graph_attr={\"area\": \"50\"}):\n",
    "                    with Cluster(\"\", graph_attr={\"bgcolor\":\"transparent\"}):\n",
    "                        fast_api_1 = FastAPI(\"FastAPI\")\n",
    "                        airflow = Airflow(\"Airflow\\ntrigger\")\n",
    "                        fast_api_2 = FastAPI(\"FastAPI\")\n",
    "                    streamlit = Custom(\"Streamlit\", \"./input_icons/streamlit.png\")\n",
    "                    \n",
    "                    s3 = S3(\"PDF files storage\")\n",
    "                    python_1 = Python(\"Data Extraction\\nfrom PDF\")\n",
    "                    python_2 = Python(\"Data validation\\nusing PyDantic\")\n",
    "                    python_3 = Python(\"Loading data\\nto Snowflake\")\n",
    "                    snowflake = Snowflake(\"PDF content\\nand metadata\")\n",
    "                    \n",
    "                    streamlit >> Edge(label = \"PDF upload\") >> fast_api_1 >> s3 >> python_1\n",
    "                    streamlit >> Edge(label = \"User Query\") >> fast_api_2 >> Edge(label = \"\\nQuerying and Fetching Results\") << snowflake\n",
    "                    streamlit >> Edge(label = \"Automating Pipeline\") >> airflow >> python_1 >> python_2 >> python_3 >> snowflake               \n",
    "                \n",
    "                docker = Docker(\"Docker\")    \n",
    "\n",
    "            ec2_group >> streamlit\n",
    "      \n",
    "    except Exception as e:\n",
    "        print(\"Exception: \",e)\n",
    "    "
   ]
  },
  {
   "cell_type": "code",
   "execution_count": 102,
   "metadata": {},
   "outputs": [],
   "source": [
    "create_flow_diagram()"
   ]
  }
 ],
 "metadata": {
  "kernelspec": {
   "display_name": "Python 3",
   "language": "python",
   "name": "python3"
  },
  "language_info": {
   "codemirror_mode": {
    "name": "ipython",
    "version": 3
   },
   "file_extension": ".py",
   "mimetype": "text/x-python",
   "name": "python",
   "nbconvert_exporter": "python",
   "pygments_lexer": "ipython3",
   "version": "3.11.5"
  }
 },
 "nbformat": 4,
 "nbformat_minor": 2
}
